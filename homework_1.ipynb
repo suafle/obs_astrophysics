{
  "nbformat": 4,
  "nbformat_minor": 0,
  "metadata": {
    "colab": {
      "name": "homework_1.ipynb",
      "version": "0.3.2",
      "provenance": [],
      "include_colab_link": true
    },
    "kernelspec": {
      "name": "python2",
      "display_name": "Python 2"
    }
  },
  "cells": [
    {
      "cell_type": "markdown",
      "metadata": {
        "id": "view-in-github",
        "colab_type": "text"
      },
      "source": [
        "<a href=\"https://colab.research.google.com/github/suafle/obs_astrophysics/blob/master/homework_1.ipynb\" target=\"_parent\"><img src=\"https://colab.research.google.com/assets/colab-badge.svg\" alt=\"Open In Colab\"/></a>"
      ]
    },
    {
      "cell_type": "code",
      "metadata": {
        "id": "eXz0qb0fPswN",
        "colab_type": "code",
        "colab": {}
      },
      "source": [
        "import numpy as np\n",
        "import matplotlib.pyplot as plt"
      ],
      "execution_count": 0,
      "outputs": []
    },
    {
      "cell_type": "code",
      "metadata": {
        "id": "4HusEblAQ3J6",
        "colab_type": "code",
        "colab": {
          "base_uri": "https://localhost:8080/",
          "height": 269
        },
        "outputId": "11d6717b-a50c-4c48-eeca-3e8dc7385900"
      },
      "source": [
        "a = np.arange(-180,181,1)*(np.pi/180.) #from -180 deg to 180 deg in rad\n",
        "x = np.cos(a)\n",
        "y = np.sin(a)\n",
        "\n",
        "\n",
        "ii = np.arange(120,240,1)\n",
        "\n",
        "for i in ii:\n",
        "  plt.scatter(x[ii],y[ii])\n",
        "  plt.scatter(x[360-ii]*1.15,y[360-ii]*1.15)\n",
        "  #plt.scatter(x[120],y[120])\n",
        "\n",
        "for dy in np.arange(0.8,-0.8,-0.04):\n",
        "  plt.scatter(x[ii],y[ii])#,thick=3,col=0\n",
        "  plt.scatter([-1,1],[0,0])#,line=4,col=0\n",
        "  plt.scatter([0.5,0.5],[0,0])#,psym=6,col=0,symsiz=2\n",
        "  plt.scatter(x*0.02,y*0.01)#,col=0\n",
        "  aa=2.*asin(dy)\n",
        "  if(i > 0):\n",
        "    #plt.scatter([-1,x(i),tangent(0)] $ ; Clean previous plot\n",
        "         ,[y(i),y(i),tangent(1)],line=2\n",
        "    plt.plot([-1,np.sqrt(1e0-dy*dy),np.sqrt(1e0-dy*dy)-np.cos(aa)],[dy,dy,dy-np.sin(aa)])#,line=2)\n",
        "  i=round(asin(dy)*!radeg)+180\n",
        "  tangent=[mean(x(i:i+1)-x(i-1:i)) $\n",
        "          ,mean(y(i:i+1)-y(i-1:i))]\n",
        "  tangent=tangent/sqrt(total(tangent^2))\n",
        "  alpha=atan(tangent(0),tangent(1)) ; Angle between tangent in\n",
        "                                    ; incoming horizontal ray\n",
        "  tangent=[-cos(2.*alpha)+x(i),sin(2.*alpha)+dy] ; Reflected ray\n",
        "\n",
        "  oplot,[  -1,x(i),tangent(0)] $\n",
        "       ,[y(i),y(i),tangent(1)],line=2,col=0\n",
        ";  oplot,[-1,sqrt(1.d0-dy*dy),sqrt(1.d0-dy*dy)-cos(aa)] $\n",
        ";       ,[dy,dy,dy-sin(aa)],line=2,col=0\n",
        "  write_gif,'spherical_mirror.gif',tvrd(),/MULTIPLE\n",
        "  wait,0.1\n",
        "endfor\n"
      ],
      "execution_count": 9,
      "outputs": [
        {
          "output_type": "display_data",
          "data": {
            "image/png": "[encoded data removed]",
            "text/plain": [
              "<Figure size 432x288 with 1 Axes>"
            ]
          },
          "metadata": {
            "tags": []
          }
        }
      ]
    },
    {
      "cell_type": "code",
      "metadata": {
        "id": "v6nuahTiQ3mN",
        "colab_type": "code",
        "colab": {}
      },
      "source": [
        ""
      ],
      "execution_count": 0,
      "outputs": []
    }
  ]
}