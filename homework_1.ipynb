{
  "nbformat": 4,
  "nbformat_minor": 0,
  "metadata": {
    "colab": {
      "name": "homework_1.ipynb",
      "version": "0.3.2",
      "provenance": [],
      "collapsed_sections": [],
      "include_colab_link": true
    },
    "kernelspec": {
      "name": "python2",
      "display_name": "Python 2"
    }
  },
  "cells": [
    {
      "cell_type": "markdown",
      "metadata": {
        "id": "view-in-github",
        "colab_type": "text"
      },
      "source": [
        "<a href=\"https://colab.research.google.com/github/suafle/obs_astrophysics/blob/master/homework_1.ipynb\" target=\"_parent\"><img src=\"https://colab.research.google.com/assets/colab-badge.svg\" alt=\"Open In Colab\"/></a>"
      ]
    },
    {
      "cell_type": "code",
      "metadata": {
        "id": "eXz0qb0fPswN",
        "colab_type": "code",
        "colab": {}
      },
      "source": [
        "import matplotlib\n",
        "import imageio\n",
        "import numpy as np\n",
        "import matplotlib.pyplot as plt\n",
        "\n",
        "from matplotlib import animation, rc\n",
        "from IPython.display import HTML, Image"
      ],
      "execution_count": 0,
      "outputs": []
    },
    {
      "cell_type": "code",
      "metadata": {
        "colab_type": "code",
        "id": "j0nq_FO-V0bU",
        "colab": {}
      },
      "source": [
        "#Spheric mirror\n",
        "ii = np.arange(-60,60,1)*(np.pi/180.)\n",
        "r = 1.\n",
        "x = r*np.cos(ii)\n",
        "y = r*np.sin(ii)\n",
        "\n",
        "plt.rcParams[\"figure.figsize\"] = (5,5)\n",
        "\n",
        "delta = -0.04\n",
        "dy = np.arange(0.80,-0.80,delta)\n",
        "angles = 2.*np.arctan(dy/2.)\n",
        "dx = 1.0*np.cos(angles)\n",
        "tangentx = np.gradient(dx,2)\n",
        "tangenty = np.gradient(dy,2)  \n",
        "alpha = np.arctan(tangentx/tangenty) #angle between tangent and incoming horizontal ray\n",
        "reflectedx = -np.cos(2.*alpha) + dx #refelcted ray\n",
        "reflectedy = np.sin(2.*alpha) + dy #refelcted ray\n",
        "\n",
        "for i in range(0,len(dx)):\n",
        "  plt.scatter([-1,1],[-1,1],color='white')\n",
        "  plt.scatter([0],[0])\n",
        "  plt.scatter([0.5],[0])\n",
        "  plt.plot(x,y) #mirror\n",
        "  plt.plot(x*1.15,y*1.15) #mirror  \n",
        "  plt.plot([-1,dx[i]],[dy[i],dy[i]],color='limegreen') #incident ray\n",
        "  plt.plot([dx[i],reflectedx[i]],[dy[i],reflectedy[i]],color='limegreen') #reflected ray\n",
        "  plt.show()\n",
        "  plt.close()"
      ],
      "execution_count": 0,
      "outputs": []
    },
    {
      "cell_type": "code",
      "metadata": {
        "id": "nHhdPv29wJ92",
        "colab_type": "code",
        "colab": {}
      },
      "source": [
        "#Spheric random mirror off-axis\n",
        "ii = np.arange(-60,60,1)*(np.pi/180.)\n",
        "r = 1.\n",
        "x = r*np.cos(ii)\n",
        "y = r*np.sin(ii)\n",
        "\n",
        "plt.rcParams[\"figure.figsize\"] = (5,5)\n",
        "\n",
        "#random rays\n",
        "x1 = -1.0*np.ones(40)\n",
        "y1 = np.random.random(40)\n",
        "x2 = 0.5*np.ones(40)\n",
        "y2 = np.random.uniform(-np.sqrt(1. - 0.5**2),np.sqrt(1. - 0.5**2),40)\n",
        "\n",
        "#Interction sphere and line (dx,dy)\n",
        "m = (y2 - y1)/(x2 - x1)\n",
        "n = y2 - m*x2\n",
        "\n",
        "dx = (-m*n + np.sqrt(1. - n**2 + m**2))/(1. + m**2)\n",
        "dy = m*dx + n\n",
        "  \n",
        "dx_minu = dx - 0.001\n",
        "dx_plus = dx + 0.001\n",
        "dy_minu = m*dx_minu + n\n",
        "dy_plus = m*dx_plus + n\n",
        "\n",
        "tangentx = dx_plus - dx_minu\n",
        "tangenty = dy_plus - dy_minu\n",
        "alpha = np.arctan(tangentx/tangenty) #angle between tangent and incoming horizontal ray\n",
        "reflectedx = -np.cos(2.*alpha) - dx #refelcted ray\n",
        "reflectedy = np.sin(2.*alpha) - dy #refelcted ray\n",
        "\n",
        "for i in range(0,len(dx)):\n",
        "  plt.scatter([-1,1],[-1,1],color='white')\n",
        "  plt.scatter([0],[0])\n",
        "  plt.scatter([0.5],[0])\n",
        "  plt.plot(x,y) #mirror\n",
        "  plt.plot(x*1.15,y*1.15) #mirror  \n",
        "  plt.plot([x1[i],dx[i]],[y1[i],dy[i]],color='limegreen') #incident ray\n",
        "  plt.plot([dx[i],reflectedx[i]],[dy[i],reflectedy[i]],color='limegreen') #reflected ray\n",
        "  plt.show()\n",
        "  plt.close()"
      ],
      "execution_count": 0,
      "outputs": []
    },
    {
      "cell_type": "code",
      "metadata": {
        "id": "_HM6ZBKkMWLQ",
        "colab_type": "code",
        "colab": {}
      },
      "source": [
        "#Spheric mirror off-axis\n",
        "ii = np.arange(-60,60,1)*(np.pi/180.)\n",
        "r = 1.\n",
        "x = r*np.cos(ii)\n",
        "y = r*np.sin(ii)\n",
        "\n",
        "plt.rcParams[\"figure.figsize\"] = (5,5)\n",
        "\n",
        "#random rays\n",
        "x1 = -1.0*np.ones(40)\n",
        "y1 = np.arange(0.80,-0.80,-0.04)\n",
        "x2 = 0.5*np.ones(40)\n",
        "y2 = np.arange(0.70,-0.90,-0.04)\n",
        "\n",
        "#Interction sphere and line (dx,dy)\n",
        "m = (y2 - y1)/(x2 - x1)\n",
        "n = y2 - m*x2\n",
        "\n",
        "dx = (-m*n + np.sqrt(1. - n**2 + m**2))/(1. + m**2)\n",
        "dy = m*dx + n\n",
        "  \n",
        "dx_minu = dx - 0.001\n",
        "dx_plus = dx + 0.001\n",
        "dy_minu = m*dx_minu + n\n",
        "dy_plus = m*dx_plus + n\n",
        "\n",
        "tangentx = dx_plus - dx_minu\n",
        "tangenty = dy_plus - dy_minu\n",
        "alpha = np.arctan(tangentx/tangenty) #angle between tangent and incoming horizontal ray\n",
        "reflectedx = -np.cos(2.*alpha) - dx #refelcted ray\n",
        "reflectedy = np.sin(2.*alpha) - dy #refelcted ray\n",
        "\n",
        "for i in range(0,len(dx)):\n",
        "  plt.scatter([-1,1],[-1,1],color='white')\n",
        "  plt.scatter([0],[0])\n",
        "  plt.scatter([0.5],[0])\n",
        "  plt.plot(x,y) #mirror\n",
        "  plt.plot(x*1.15,y*1.15) #mirror  \n",
        "  plt.plot([x1[i],dx[i]],[y1[i],dy[i]],color='limegreen') #incident ray\n",
        "  plt.plot([dx[i],reflectedx[i]],[dy[i],reflectedy[i]],color='limegreen') #reflected ray\n",
        "  plt.show()\n",
        "  plt.close()"
      ],
      "execution_count": 0,
      "outputs": []
    },
    {
      "cell_type": "code",
      "metadata": {
        "id": "OvlXXaANpm7-",
        "colab_type": "code",
        "colab": {}
      },
      "source": [
        "#Parabolic mirror\n",
        "ii = np.arange(-60,60,1)*(np.pi/180.)\n",
        "r = 2./(1.+np.cos(ii))\n",
        "x = r*np.cos(ii)\n",
        "y = r*np.sin(ii)\n",
        "#En cartesianas y**2 = -4*(x-1)\n",
        "\n",
        "plt.rcParams[\"figure.figsize\"] = (5,5)\n",
        "\n",
        "delta = -0.04\n",
        "dy = np.arange(0.80,-0.80,delta)\n",
        "angles = 2*np.arctan(dy/2)\n",
        "dx = (2./(1 + np.cos(angles)))*np.cos(angles)\n",
        "tangentx = np.gradient(dx,2)\n",
        "tangenty = np.gradient(dy,2)  \n",
        "alpha = np.arctan(tangentx/tangenty) #angle between tangent and incoming horizontal ray\n",
        "reflectedx = -np.cos(2.*alpha) + dx #refelcted ray\n",
        "reflectedy = np.sin(2.*alpha) + dy #refelcted ray\n",
        "\n",
        "for i in range(0,len(dx)):\n",
        "  plt.scatter([-1,1],[-1,1],color='white')\n",
        "  plt.scatter([0],[0])\n",
        "  plt.scatter([0.5],[0])\n",
        "  plt.plot(x,y) #mirror\n",
        "  plt.plot(x*1.15,y*1.15) #mirror  \n",
        "  plt.plot([-1,dx[i]],[dy[i],dy[i]],color='limegreen') #incident ray\n",
        "  plt.plot([dx[i],reflectedx[i]],[dy[i],reflectedy[i]],color='limegreen') #reflected ray\n",
        "  plt.show()\n",
        "  plt.close()"
      ],
      "execution_count": 0,
      "outputs": []
    },
    {
      "cell_type": "code",
      "metadata": {
        "id": "AV9IZUPEnU3v",
        "colab_type": "code",
        "colab": {}
      },
      "source": [
        "#Parabolic random mirror off-axis\n",
        "ii = np.arange(-60,60,1)*(np.pi/180.)\n",
        "r = 2./(1.+np.cos(ii))\n",
        "x = r*np.cos(ii)\n",
        "y = r*np.sin(ii)\n",
        "#En cartesianas y**2 = -4*(x-1)\n",
        "\n",
        "plt.rcParams[\"figure.figsize\"] = (5,5)\n",
        "\n",
        "#random rays\n",
        "x1 = -1.0*np.ones(40)\n",
        "y1 = np.random.uniform(-1,1,40)\n",
        "x2 = 0.6*np.ones(40)\n",
        "y2 = np.random.uniform(-1.15,1.15,40)\n",
        "#y2 = np.random.uniform(-np.sqrt(2.4),np.sqrt(2.4),40)\n",
        "\n",
        "#Interction sphere and parabola (dx,dy)\n",
        "m = (y2 - y1)/(x2 - x1)\n",
        "n = y2 - m*x2\n",
        "\n",
        "dx = (-m*n - 2. + 2.*np.sqrt(m*n + 1. + m**2))/(m**2)\n",
        "dy = m*dx + n\n",
        "  \n",
        "dx_minu = dx - 0.001\n",
        "dx_plus = dx + 0.001\n",
        "dy_minu = m*dx_minu + n\n",
        "dy_plus = m*dx_plus + n\n",
        "\n",
        "tangentx = dx_plus - dx_minu\n",
        "tangenty = dy_plus - dy_minu\n",
        "alpha = np.arctan(tangentx/tangenty) #angle between tangent and incoming horizontal ray\n",
        "reflectedx = -np.cos(2.*alpha) - dx #refelcted ray\n",
        "reflectedy = np.sin(2.*alpha) - dy #refelcted ray\n",
        "\n",
        "for i in range(0,len(dx)):\n",
        "  plt.scatter([-1,1],[-1,1],color='white')\n",
        "  plt.scatter([0],[0])\n",
        "  plt.scatter([0.5],[0])\n",
        "  plt.plot(x,y) #mirror\n",
        "  plt.plot(x*1.15,y*1.15) #mirror  \n",
        "  plt.plot([x1[i],dx[i]],[y1[i],dy[i]],color='limegreen') #incident ray\n",
        "  plt.plot([dx[i],reflectedx[i]],[dy[i],reflectedy[i]],color='limegreen') #reflected ray\n",
        "  plt.show()\n",
        "  plt.close()"
      ],
      "execution_count": 0,
      "outputs": []
    },
    {
      "cell_type": "code",
      "metadata": {
        "id": "Tx-62yf0H_3S",
        "colab_type": "code",
        "colab": {
          "base_uri": "https://localhost:8080/",
          "height": 360
        },
        "outputId": "65f76813-4db2-4c3f-9f4b-a489601da358"
      },
      "source": [
        "#Parabolic mirror off-axis\n",
        "ii = np.arange(-60,60,1)*(np.pi/180.)\n",
        "r = 2./(1.+np.cos(ii))\n",
        "x = r*np.cos(ii)\n",
        "y = r*np.sin(ii)\n",
        "#En cartesianas y**2 = -4*(x-1)\n",
        "\n",
        "plt.rcParams[\"figure.figsize\"] = (5,5)\n",
        "\n",
        "#random rays\n",
        "x1 = -1.0*np.ones(40)\n",
        "y1 = np.arange(0.8,-0.8,-0.04)\n",
        "x2 = 0.6*np.ones(40)\n",
        "y2 = np.arange(0.7,-0.9,-0.04)\n",
        "#y2 = np.random.uniform(-np.sqrt(2.4),np.sqrt(2.4),40)\n",
        "\n",
        "#Interction sphere and parabola (dx,dy)\n",
        "m = (y2 - y1)/(x2 - x1)\n",
        "n = y2 - m*x2\n",
        "\n",
        "dx = (-m*n - 2. + 2.*np.sqrt(m*n + 1. + m**2))/(m**2)\n",
        "dy = m*dx + n\n",
        "  \n",
        "dx_minu = dx - 0.001\n",
        "dx_plus = dx + 0.001\n",
        "dy_minu = m*dx_minu + n\n",
        "dy_plus = m*dx_plus + n\n",
        "\n",
        "tangentx = dx_plus - dx_minu\n",
        "tangenty = dy_plus - dy_minu\n",
        "alpha = np.arctan(tangentx/tangenty) #angle between tangent and incoming horizontal ray\n",
        "reflectedx = -np.cos(2.*alpha) - dx #refelcted ray\n",
        "reflectedy = np.sin(2.*alpha) - dy #refelcted ray\n",
        "\n",
        "rc('animation', html='html5')\n",
        "fig, ax = plt.subplots(figsize=(5,5))\n",
        "ax.scatter([0],[0])\n",
        "ax.scatter([0.5],[0])\n",
        "ax.set_xlim((-1.2, 1.2))\n",
        "ax.set_ylim((-1.4, 1.4))\n",
        "ax.plot(x,y, lw=1.5)\n",
        "ax.plot(x*1.15,y*1.15, lw=1.5)\n",
        "\n",
        "line1, = ax.plot([], [], lw=1, color = 'limegreen')\n",
        "line2, = ax.plot([], [], lw=1, color = 'limegreen')\n",
        "\n",
        "def init():\n",
        "    line.set_data([], [])\n",
        "    return (line,)\n",
        "\n",
        "def animate(i):\n",
        "  line1.set_data([x1[i],dx[i]],[y1[i],dy[i]]) #incident ray\n",
        "  line2.set_data([dx[i],reflectedx[i]],[dy[i],reflectedy[i]]) #reflected ray\n",
        "\n",
        "anim = animation.FuncAnimation(fig, animate,frames=40,interval=20)\n",
        "HTML(anim.to_html5_video())\n",
        "  \n",
        "\"\"\"\n",
        "for i in range(0,len(dx)):\n",
        "  plt.scatter([-1,1],[-1,1],color='white')\n",
        "  plt.scatter([0],[0])\n",
        "  plt.scatter([0.5],[0])\n",
        "  plt.plot(x,y) #mirror\n",
        "  plt.plot(x*1.15,y*1.15) #mirror  \n",
        "  plt.plot([x1[i],dx[i]],[y1[i],dy[i]],color='limegreen') #incident ray\n",
        "  plt.plot([dx[i],reflectedx[i]],[dy[i],reflectedy[i]],color='limegreen') #reflected ray\n",
        "  plt.show()\n",
        "  plt.close()\n",
        "\"\"\""
      ],
      "execution_count": 23,
      "outputs": [
        {
          "output_type": "execute_result",
          "data": {
            "text/plain": [
              "\"\\nfor i in range(0,len(dx)):\\n  plt.scatter([-1,1],[-1,1],color='white')\\n  plt.scatter([0],[0])\\n  plt.scatter([0.5],[0])\\n  plt.plot(x,y) #mirror\\n  plt.plot(x*1.15,y*1.15) #mirror  \\n  plt.plot([x1[i],dx[i]],[y1[i],dy[i]],color='limegreen') #incident ray\\n  plt.plot([dx[i],reflectedx[i]],[dy[i],reflectedy[i]],color='limegreen') #reflected ray\\n  plt.show()\\n  plt.close()\\n\""
            ]
          },
          "metadata": {
            "tags": []
          },
          "execution_count": 23
        },
        {
          "output_type": "display_data",
          "data": {
            "image/png": "[encoded data removed]",
            "text/plain": [
              "<Figure size 360x360 with 1 Axes>"
            ]
          },
          "metadata": {
            "tags": []
          }
        }
      ]
    },
    {
      "cell_type": "code",
      "metadata": {
        "id": "VJWj6N_UWijo",
        "colab_type": "code",
        "colab": {}
      },
      "source": [
        ""
      ],
      "execution_count": 0,
      "outputs": []
    }
  ]
}